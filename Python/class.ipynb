{
 "cells": [
  {
   "cell_type": "markdown",
   "metadata": {},
   "source": [
    "# Class\n",
    "[파이썬 중급 - Python Class 예제 및 사용법 - 어쩐지 오늘은](https://zzsza.github.io/development/2020/07/05/python-class/)을 바탕으로 공부하고 실습한 내용입니다."
   ]
  },
  {
   "cell_type": "markdown",
   "metadata": {},
   "source": [
    "- `__init__` : 클래스 인스턴스 생성시 초기화하며 실행되는 부분\n",
    "- `__dict__` : class의 값을 보여줌.\n",
    "- `__str__` : print() or str() 함수가 호출될 때 사용\n",
    "- `__repr__` : str과 비슷함. 객체 생성 방법을 알 수 있도록 하는 표준 문자열 표기 방식이라고 함. str과 repr 모두 객체를 문자열로 표현하는 것은 동일함.\n",
    "- `__doc__` : docstring을 출력, 클래스에 대한 설명\n",
    "- `self`\n",
    "  - self는 인스턴스 자기 자신을 의미 (인스턴스 : 클래스에 의해 만들어진 객체)\n",
    "  - self가 있는 것이 인스턴스 변수"
   ]
  },
  {
   "cell_type": "code",
   "execution_count": 23,
   "metadata": {},
   "outputs": [
    {
     "name": "stdout",
     "output_type": "stream",
     "text": [
      "str : Iphone - {'color': 'White', 'price': 10000}\n",
      "<bound method Smartphone.__repr__ of repr : Iphone - {'color': 'White', 'price': 10000}>\n",
      "{'_brand': 'Iphone', '_informations': {'color': 'White', 'price': 10000}}\n",
      "False\n",
      "False\n",
      "None\n"
     ]
    }
   ],
   "source": [
    "class Smartphone:\n",
    "    def __init__(self, brand, informations):\n",
    "        self._brand = brand\n",
    "        self._informations = informations\n",
    "\n",
    "    def __str__(self):\n",
    "        return f'str : {self._brand} - {self._informations}'\n",
    "\n",
    "    def __repr__(self):\n",
    "        return f'repr : {self._brand} - {self._informations}'\n",
    "\n",
    "\n",
    "Smartphone1 = Smartphone('Iphone', {'color' : 'White', 'price': 10000})\n",
    "Smartphone2 = Smartphone('Galaxy', {'color' : 'Black', 'price': 8000})\n",
    "\n",
    "print(Smartphone1)\n",
    "print(Smartphone1.__repr__)\n",
    "print(Smartphone1.__dict__)\n",
    "\n",
    "print(Smartphone1._brand == Smartphone2._brand)\n",
    "print(Smartphone1 is Smartphone2)\n",
    "\n",
    "print(Smartphone.__doc__)    "
   ]
  },
  {
   "cell_type": "code",
   "execution_count": 18,
   "metadata": {},
   "outputs": [
    {
     "name": "stdout",
     "output_type": "stream",
     "text": [
      "{'__module__': '__main__', 'smartphone_count': 0, '__init__': <function Smartphone.__init__ at 0x107d04160>, '__str__': <function Smartphone.__str__ at 0x107d05240>, '__repr__': <function Smartphone.__repr__ at 0x107d052d0>, 'infomation': <function Smartphone.infomation at 0x107d05360>, '__del__': <function Smartphone.__del__ at 0x107d053f0>, '__dict__': <attribute '__dict__' of 'Smartphone' objects>, '__weakref__': <attribute '__weakref__' of 'Smartphone' objects>, '__doc__': None}\n",
      "{'_brand': 'Iphone', '_infomations': {'color': 'White', 'price': 10000}}\n",
      "{'_brand': 'Galaxy', '_infomations': {'color': 'Black', 'price': 8000}}\n",
      "['__class__', '__del__', '__delattr__', '__dict__', '__dir__', '__doc__', '__eq__', '__format__', '__ge__', '__getattribute__', '__gt__', '__hash__', '__init__', '__init_subclass__', '__le__', '__lt__', '__module__', '__ne__', '__new__', '__reduce__', '__reduce_ex__', '__repr__', '__setattr__', '__sizeof__', '__str__', '__subclasshook__', '__weakref__', '_brand', '_infomations', 'infomation', 'smartphone_count']\n",
      "0\n",
      "0\n"
     ]
    }
   ],
   "source": [
    "class Smartphone:\n",
    "\n",
    "    # 클래스 변수\n",
    "    smartphone_count = 0\n",
    "    \n",
    "    def __init__(self, brand, infomations):\n",
    "        self._brand = brand\n",
    "        self._infomations = infomations\n",
    "        Smartphone.smartphone_count += 1\n",
    "\n",
    "    def __str__(self):\n",
    "        return f'str : {self._brand} - {self._infomations}'\n",
    "\n",
    "    def __repr__(self):\n",
    "        return f'repr : {self._brand} - {self._infomations}'\n",
    "\n",
    "    def infomation(self):\n",
    "        print(f'Current Id : {id(self)}')\n",
    "        print(f'Smartphone Detail Info : {self._brand} {self._infomations.get(\"price\")}')\n",
    "\n",
    "    def __del__(self):\n",
    "        Smartphone.smartphone_count -= 1\n",
    "    \n",
    "Smartphone1 = Smartphone('Iphone', {'color' : 'White', 'price': 10000})\n",
    "Smartphone2 = Smartphone('Galaxy', {'color' : 'Black', 'price': 8000})\n",
    "\t\n",
    "\t\n",
    "print(Smartphone.__dict__)\n",
    "print(Smartphone1.__dict__)\n",
    "print(Smartphone2.__dict__)\n",
    "print(dir(Smartphone1))\n",
    "\t\n",
    "print(Smartphone1.smartphone_count)\n",
    "print(Smartphone.smartphone_count)"
   ]
  },
  {
   "cell_type": "markdown",
   "metadata": {},
   "source": [
    "### 메소드의 종류\n",
    "- 클래스 메소드\n",
    "  - @classmethod 데코레이터를 사용\n",
    "  - cls 인자를 받음\n",
    "  - cls는 Smartphone을 뜻함.(클래스)\n",
    "  - 클래스 변수 컨트롤할 때 사용\n",
    "- 인스턴스 메소드\n",
    "  - Self가 들어간 경우\n",
    "  - 객체의 고유한 속성 값ㅇ르 사용\n",
    "- 스태틱 메소드 (Static Method)\n",
    "  - 아무 인자도 받지 않음 (self, cls 등)"
   ]
  },
  {
   "cell_type": "code",
   "execution_count": 34,
   "metadata": {},
   "outputs": [
    {
     "name": "stdout",
     "output_type": "stream",
     "text": [
      "str : Iphone - {'color': 'White', 'price': 10000}\n",
      "str : Galaxy - {'color': 'Black', 'price': 8000}\n",
      "Current Id : 4427229472\n",
      "Smartphone Detail Info : Iphone 10000\n",
      "Current Id : 4427229376\n",
      "Smartphone Detail Info : Galaxy 8000\n",
      "Before Smartphone Price -> brand : Iphone, price : 10000\n",
      "Before Smartphone Price -> brand : Galaxy, price : 8000\n",
      "After Smartphone Price -> brand : Iphone, price : 12000.0\n",
      "After Smartphone Price -> brand : Galaxy, price : 9600.0\n",
      "After Smartphone Price -> brand : Iphone, price : 16000.0\n",
      "After Smartphone Price -> brand : Galaxy, price : 12800.0\n",
      "Sorry. This Smartphone is not Iphone.\n",
      "Static :  OK! This Smartphone is Iphone.\n",
      "Static :  Sorry. This Smartphone is not Iphone.\n"
     ]
    }
   ],
   "source": [
    "class Smartphone:\n",
    "\n",
    "    smartphone_count = 0\n",
    "    \n",
    "    def __init__(self, brand, informations):\n",
    "        self._brand = brand\n",
    "        self._informations = informations\n",
    "        Smartphone.smartphone_count += 1\n",
    "\n",
    "    def __str__(self):\n",
    "        return f'str : {self._brand} - {self._informations}'\n",
    "\n",
    "    def __repr__(self):\n",
    "        return f'repr : {self._brand} - {self._informations}'\n",
    "    \n",
    "\n",
    "    def detail_info(self):\n",
    "        print(f'Current Id : {id(self)}')\n",
    "        print(f'Smartphone Detail Info : {self._brand} {self._informations.get(\"price\")}')\n",
    "\n",
    "    def get_price(self):\n",
    "        return f'Before Smartphone Price -> brand : {self._brand}, price : {self._informations.get(\"price\")}'\n",
    "\n",
    "    def get_price_culc(self):\n",
    "        return f'After Smartphone Price -> brand : {self._brand}, price : {self._informations.get(\"price\") * Smartphone.price_per_raise}'\n",
    "\n",
    "    @classmethod\n",
    "    def raise_price(cls, per):\n",
    "        if per <= 1:\n",
    "            print('Please Enter 1 or More')\n",
    "            return\n",
    "        cls.price_per_raise = per\n",
    "        return 'Succeed! price increased.'\n",
    "\n",
    "    @staticmethod\n",
    "    def is_iphone(inst):\n",
    "        if inst._brand == 'Iphone':\n",
    "            return f'OK! This Smartphone is {inst._brand}.'\n",
    "        return 'Sorry. This Smartphone is not Iphone.'\n",
    "    \n",
    "    \n",
    "Smartphone1 = Smartphone('Iphone', {'color' : 'White', 'price': 10000})\n",
    "Smartphone2 = Smartphone('Galaxy', {'color' : 'Black', 'price': 8000})\n",
    "# 기본 정보\n",
    "print(Smartphone1)\n",
    "print(Smartphone2)\n",
    "\n",
    "Smartphone1.detail_info()\n",
    "Smartphone2.detail_info()\n",
    "\n",
    "print(Smartphone1.get_price())\n",
    "print(Smartphone2.get_price())\n",
    "\n",
    "# 가격 인상(클래스 메소드 미사용)\n",
    "# 이렇게 직접 접근은 좋지 않아요\n",
    "Smartphone.price_per_raise = 1.2\n",
    "\n",
    "# 가격 정보\n",
    "print(Smartphone1.get_price_culc())\n",
    "print(Smartphone2.get_price_culc())\n",
    "\n",
    "# 가격 인상\n",
    "Smartphone.raise_price(1.6)\n",
    "\n",
    "# 가격 정보\n",
    "print(Smartphone1.get_price_culc())\n",
    "print(Smartphone2.get_price_culc())\n",
    "\n",
    "def is_iphone(inst):\n",
    "    if inst._brand == 'Iphone':\n",
    "        return f'OK! This Smartphone is {inst._brand}.'\n",
    "    return 'Sorry. This Smartphone is not Iphone.'\n",
    "\n",
    "print(is_iphone(Smartphone2))\n",
    "\n",
    "print('Static : ', Smartphone.is_iphone(Smartphone1))\n",
    "print('Static : ', Smartphone.is_iphone(Smartphone2))\n",
    "\n"
   ]
  },
  {
   "cell_type": "markdown",
   "metadata": {},
   "source": [
    "### 상속"
   ]
  },
  {
   "cell_type": "code",
   "execution_count": 35,
   "metadata": {},
   "outputs": [
    {
     "name": "stdout",
     "output_type": "stream",
     "text": [
      "str : IPhone - 7000\n",
      "str : Galaxy 스마트폰은 Galaxy에서 출시되었고, South Korea에서 생산되었습니다. 가격은 5000입니다\n"
     ]
    }
   ],
   "source": [
    "class Smartphone:\n",
    "    def __init__(self, brand, price):\n",
    "        self._brand = brand\n",
    "        self._price = price\n",
    "      \n",
    "    \n",
    "    def __str__(self):\n",
    "        return f'str : {self._brand} - {self._price}'\n",
    "\n",
    "class Galaxy(Smartphone):\n",
    "    def __init__(self, brand, price, country):\n",
    "        self._brand = brand\n",
    "        self._price = price\n",
    "        self._country = country\n",
    " \n",
    "    def __str__(self):\n",
    "        return f'str : {self.__class__.__name__} 스마트폰은 {self._brand}에서 출시되었고, {self._country}에서 생산되었습니다. 가격은 {self._price}입니다'\n",
    "    \n",
    "iphone = Smartphone('IPhone', 7000)\n",
    "print(iphone)\n",
    "galaxy = Galaxy('Galaxy', 5000, 'South Korea')\n",
    "print(galaxy)    "
   ]
  },
  {
   "cell_type": "markdown",
   "metadata": {},
   "source": [
    "- property\n",
    "  - 파이썬은 속성에 직접적인 접근을 막기 위해 property를 사용함.\n",
    "  - 데코레이터로 감싸서 사용함.\n",
    "  - property를 사용하면 value의 제한을 걸 수 있음.\n",
    "  - 사용 목적 : 변수를 변경할 때 제한사항ㅇ르 두고 싶은 경우, getter / setter 함수를 만들지 않고 간단히 접근하기 위함.\n",
    "    - getter / setter는 객체의 속성을 읽고 변경할 때 사용함. 자바같은 객체 지향 언어에서는 외부에서 바로 접근할 수 없는 private 객체 속성을 지원하는데, 이러한 private 속성의 값을 읽고(get), 변경(set)하기 위해 getter와 setter를 사용함.\n",
    "    - 파이썬의 경우 모든 메서드가 public이라서 getter와 setter 메소드가 없지만, 사용할 수는 있음.\n",
    "    ```Python\n",
    "    class Smartphone:\n",
    "    def __init__(self, brand, price):\n",
    "        self._brand = brand\n",
    "        self._price = price\n",
    "        \n",
    "    def get_price(self):\n",
    "        return self._price\n",
    "        \n",
    "    def set_price(self, price):\n",
    "        self._price = price\n",
    "      ```"
   ]
  },
  {
   "cell_type": "code",
   "execution_count": 36,
   "metadata": {},
   "outputs": [
    {
     "name": "stdout",
     "output_type": "stream",
     "text": [
      "변경 전 가격 : 1000\n",
      "변경 후 가격 : 10000\n"
     ]
    }
   ],
   "source": [
    "class Smartphone:\n",
    "    def __init__(self, brand, price):\n",
    "        self._brand = brand\n",
    "        self._price = price\n",
    " \n",
    "    @property\n",
    "    def price(self):\n",
    "        return self._price\n",
    "\t    \n",
    "    @price.setter\n",
    "    def price(self, price):\n",
    "        print(f\"변경 전 가격 : {self._price}\")\n",
    "        self._price = price\n",
    "        print(f\"변경 후 가격 : {self._price}\")\n",
    "\n",
    "Smartphone1 = Smartphone(\"Iphone\", 1000)\n",
    "Smartphone1.price = 10000"
   ]
  },
  {
   "cell_type": "code",
   "execution_count": 37,
   "metadata": {},
   "outputs": [
    {
     "name": "stdout",
     "output_type": "stream",
     "text": [
      "변경 전 가격 : 1000\n",
      "변경 후 가격 : 10000\n"
     ]
    },
    {
     "ename": "ValueError",
     "evalue": "Price below 0 is not possible",
     "output_type": "error",
     "traceback": [
      "\u001b[0;31m---------------------------------------------------------------------------\u001b[0m",
      "\u001b[0;31mValueError\u001b[0m                                Traceback (most recent call last)",
      "\u001b[1;32m/Users/myksh0903/Desktop/SuhyunKim/TIL/Python/class.ipynb 셀 11\u001b[0m in \u001b[0;36m<cell line: 20>\u001b[0;34m()\u001b[0m\n\u001b[1;32m     <a href='vscode-notebook-cell:/Users/myksh0903/Desktop/SuhyunKim/TIL/Python/class.ipynb#ch0000014?line=17'>18</a>\u001b[0m Smartphone1 \u001b[39m=\u001b[39m Smartphone(\u001b[39m\"\u001b[39m\u001b[39mIphone\u001b[39m\u001b[39m\"\u001b[39m, \u001b[39m1000\u001b[39m)\n\u001b[1;32m     <a href='vscode-notebook-cell:/Users/myksh0903/Desktop/SuhyunKim/TIL/Python/class.ipynb#ch0000014?line=18'>19</a>\u001b[0m Smartphone1\u001b[39m.\u001b[39mprice \u001b[39m=\u001b[39m \u001b[39m10000\u001b[39m   \n\u001b[0;32m---> <a href='vscode-notebook-cell:/Users/myksh0903/Desktop/SuhyunKim/TIL/Python/class.ipynb#ch0000014?line=19'>20</a>\u001b[0m Smartphone1\u001b[39m.\u001b[39mprice \u001b[39m=\u001b[39m \u001b[39m-\u001b[39m\u001b[39m1000\u001b[39m\n",
      "\u001b[1;32m/Users/myksh0903/Desktop/SuhyunKim/TIL/Python/class.ipynb 셀 11\u001b[0m in \u001b[0;36mSmartphone.price\u001b[0;34m(self, price)\u001b[0m\n\u001b[1;32m     <a href='vscode-notebook-cell:/Users/myksh0903/Desktop/SuhyunKim/TIL/Python/class.ipynb#ch0000014?line=9'>10</a>\u001b[0m \u001b[39m@price\u001b[39m\u001b[39m.\u001b[39msetter\n\u001b[1;32m     <a href='vscode-notebook-cell:/Users/myksh0903/Desktop/SuhyunKim/TIL/Python/class.ipynb#ch0000014?line=10'>11</a>\u001b[0m \u001b[39mdef\u001b[39;00m \u001b[39mprice\u001b[39m(\u001b[39mself\u001b[39m, price):\n\u001b[1;32m     <a href='vscode-notebook-cell:/Users/myksh0903/Desktop/SuhyunKim/TIL/Python/class.ipynb#ch0000014?line=11'>12</a>\u001b[0m     \u001b[39mif\u001b[39;00m price \u001b[39m<\u001b[39m \u001b[39m0\u001b[39m:\n\u001b[0;32m---> <a href='vscode-notebook-cell:/Users/myksh0903/Desktop/SuhyunKim/TIL/Python/class.ipynb#ch0000014?line=12'>13</a>\u001b[0m         \u001b[39mraise\u001b[39;00m \u001b[39mValueError\u001b[39;00m(\u001b[39m\"\u001b[39m\u001b[39mPrice below 0 is not possible\u001b[39m\u001b[39m\"\u001b[39m)\n\u001b[1;32m     <a href='vscode-notebook-cell:/Users/myksh0903/Desktop/SuhyunKim/TIL/Python/class.ipynb#ch0000014?line=13'>14</a>\u001b[0m     \u001b[39mprint\u001b[39m(\u001b[39mf\u001b[39m\u001b[39m\"\u001b[39m\u001b[39m변경 전 가격 : \u001b[39m\u001b[39m{\u001b[39;00m\u001b[39mself\u001b[39m\u001b[39m.\u001b[39m_price\u001b[39m}\u001b[39;00m\u001b[39m\"\u001b[39m)\n\u001b[1;32m     <a href='vscode-notebook-cell:/Users/myksh0903/Desktop/SuhyunKim/TIL/Python/class.ipynb#ch0000014?line=14'>15</a>\u001b[0m     \u001b[39mself\u001b[39m\u001b[39m.\u001b[39m_price \u001b[39m=\u001b[39m price\n",
      "\u001b[0;31mValueError\u001b[0m: Price below 0 is not possible"
     ]
    }
   ],
   "source": [
    "class Smartphone:\n",
    "    def __init__(self, brand, price):\n",
    "        self._brand = brand\n",
    "        self._price = price\n",
    "\t    \n",
    "    @property\n",
    "    def price(self):\n",
    "        return self._price\n",
    "\t    \n",
    "    @price.setter\n",
    "    def price(self, price):\n",
    "        if price < 0:\n",
    "            raise ValueError(\"Price below 0 is not possible\")\n",
    "        print(f\"변경 전 가격 : {self._price}\")\n",
    "        self._price = price\n",
    "        print(f\"변경 후 가격 : {self._price}\")\n",
    "\n",
    "Smartphone1 = Smartphone(\"Iphone\", 1000)\n",
    "Smartphone1.price = 10000   \n",
    "Smartphone1.price = -1000"
   ]
  },
  {
   "cell_type": "markdown",
   "metadata": {},
   "source": [
    "### 추상 메소드\n",
    "- Class를 만들었다면, Class에서 정의된 메소드를 그대로 사용하지 않을 수 있음.\n",
    "  - 상속받고, 어떤 메소드는 추가하고 어떤 메소드는 오버라이드할 수 있음.\n",
    "  - 통일된 Class 체계를 구축하며 확장 기능을 가능하게 만드는 것이 Class\n",
    "- Class를 만들 때 반드시 구현해야 할 메소드를 명시할 수 있음."
   ]
  },
  {
   "cell_type": "code",
   "execution_count": 38,
   "metadata": {},
   "outputs": [
    {
     "ename": "NotImplementedError",
     "evalue": "",
     "output_type": "error",
     "traceback": [
      "\u001b[0;31m---------------------------------------------------------------------------\u001b[0m",
      "\u001b[0;31mNotImplementedError\u001b[0m                       Traceback (most recent call last)",
      "\u001b[1;32m/Users/myksh0903/Desktop/SuhyunKim/TIL/Python/class.ipynb 셀 13\u001b[0m in \u001b[0;36m<cell line: 8>\u001b[0;34m()\u001b[0m\n\u001b[1;32m      <a href='vscode-notebook-cell:/Users/myksh0903/Desktop/SuhyunKim/TIL/Python/class.ipynb#ch0000015?line=4'>5</a>\u001b[0m     \u001b[39mpass\u001b[39;00m\n\u001b[1;32m      <a href='vscode-notebook-cell:/Users/myksh0903/Desktop/SuhyunKim/TIL/Python/class.ipynb#ch0000015?line=6'>7</a>\u001b[0m iphone \u001b[39m=\u001b[39m Iphone()\n\u001b[0;32m----> <a href='vscode-notebook-cell:/Users/myksh0903/Desktop/SuhyunKim/TIL/Python/class.ipynb#ch0000015?line=7'>8</a>\u001b[0m iphone\u001b[39m.\u001b[39;49mfunc1()\n",
      "\u001b[1;32m/Users/myksh0903/Desktop/SuhyunKim/TIL/Python/class.ipynb 셀 13\u001b[0m in \u001b[0;36mSmartphone.func1\u001b[0;34m(cls)\u001b[0m\n\u001b[1;32m      <a href='vscode-notebook-cell:/Users/myksh0903/Desktop/SuhyunKim/TIL/Python/class.ipynb#ch0000015?line=1'>2</a>\u001b[0m \u001b[39mdef\u001b[39;00m \u001b[39mfunc1\u001b[39m(\u001b[39mcls\u001b[39m):\n\u001b[0;32m----> <a href='vscode-notebook-cell:/Users/myksh0903/Desktop/SuhyunKim/TIL/Python/class.ipynb#ch0000015?line=2'>3</a>\u001b[0m     \u001b[39mraise\u001b[39;00m \u001b[39mNotImplementedError\u001b[39;00m()\n",
      "\u001b[0;31mNotImplementedError\u001b[0m: "
     ]
    }
   ],
   "source": [
    "class Smartphone:\n",
    "    def func1(cls):\n",
    "        raise NotImplementedError()\n",
    "class Iphone(Smartphone):\n",
    "    pass\n",
    "\n",
    "iphone = Iphone()\n",
    "iphone.func1() #에러 발생 -> Iphone에서 func1 함수를 구현하지 않아서 에러가 발생함."
   ]
  },
  {
   "cell_type": "markdown",
   "metadata": {},
   "source": [
    "- 조금 더 Strict한 방법은 `@abc.abstractmethod`를 사용하는 방법이다.\n",
    "- abc는 abstract base class의 약자\n",
    "- Class의 인자로 `metaclass=abc.ABCMeta`를 지정하고 Class에 데코레이터로 `@abc.abstractmethod`를 사용하면, class가 호출되는 순간 구현해야 하는 메소드가 구현되었는지를 확인함.\n",
    "- 참고 : metaclass는 단순히 클래스를 만들 때 사용됨. 클래스의 클래스\n",
    "- 바로 에러가 발생하기 때문에 인스턴스화시키지 않고 추상화에 이점이 존재"
   ]
  },
  {
   "cell_type": "code",
   "execution_count": 39,
   "metadata": {},
   "outputs": [
    {
     "ename": "TypeError",
     "evalue": "Can't instantiate abstract class Iphone with abstract method func1",
     "output_type": "error",
     "traceback": [
      "\u001b[0;31m---------------------------------------------------------------------------\u001b[0m",
      "\u001b[0;31mTypeError\u001b[0m                                 Traceback (most recent call last)",
      "\u001b[1;32m/Users/myksh0903/Desktop/SuhyunKim/TIL/Python/class.ipynb 셀 15\u001b[0m in \u001b[0;36m<cell line: 10>\u001b[0;34m()\u001b[0m\n\u001b[1;32m      <a href='vscode-notebook-cell:/Users/myksh0903/Desktop/SuhyunKim/TIL/Python/class.ipynb#ch0000017?line=6'>7</a>\u001b[0m     \u001b[39mdef\u001b[39;00m \u001b[39mfunc2\u001b[39m(\u001b[39mself\u001b[39m):\n\u001b[1;32m      <a href='vscode-notebook-cell:/Users/myksh0903/Desktop/SuhyunKim/TIL/Python/class.ipynb#ch0000017?line=7'>8</a>\u001b[0m         \u001b[39mpass\u001b[39;00m\n\u001b[0;32m---> <a href='vscode-notebook-cell:/Users/myksh0903/Desktop/SuhyunKim/TIL/Python/class.ipynb#ch0000017?line=9'>10</a>\u001b[0m iphone \u001b[39m=\u001b[39m Iphone()\n",
      "\u001b[0;31mTypeError\u001b[0m: Can't instantiate abstract class Iphone with abstract method func1"
     ]
    }
   ],
   "source": [
    "import abc\n",
    "class Smartphone(metaclass=abc.ABCMeta):\n",
    "    @abc.abstractmethod\n",
    "    def func1(cls):\n",
    "        raise NotImplementedError()\n",
    "class Iphone(Smartphone):\n",
    "    def func2(self):\n",
    "        pass\n",
    "\n",
    "iphone = Iphone()"
   ]
  },
  {
   "cell_type": "code",
   "execution_count": null,
   "metadata": {},
   "outputs": [],
   "source": []
  }
 ],
 "metadata": {
  "kernelspec": {
   "display_name": "Python 3.10.5 64-bit",
   "language": "python",
   "name": "python3"
  },
  "language_info": {
   "codemirror_mode": {
    "name": "ipython",
    "version": 3
   },
   "file_extension": ".py",
   "mimetype": "text/x-python",
   "name": "python",
   "nbconvert_exporter": "python",
   "pygments_lexer": "ipython3",
   "version": "3.10.5"
  },
  "orig_nbformat": 4,
  "vscode": {
   "interpreter": {
    "hash": "aee8b7b246df8f9039afb4144a1f6fd8d2ca17a180786b69acc140d282b71a49"
   }
  }
 },
 "nbformat": 4,
 "nbformat_minor": 2
}
